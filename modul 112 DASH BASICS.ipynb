{
 "cells": [
  {
   "cell_type": "code",
   "execution_count": 20,
   "id": "46e1d3ee-1ae2-43f1-9fd0-c9a6cd04448a",
   "metadata": {},
   "outputs": [],
   "source": [
    "import dash\n",
    "from dash import dcc\n",
    "from dash import html\n",
    "from dash import Input\n",
    "from dash import Output\n",
    "import plotly.express as px\n",
    "from plotly import graph_objects as go"
   ]
  },
  {
   "cell_type": "code",
   "execution_count": 21,
   "id": "54a86070-6874-4a12-b4cf-91224271c897",
   "metadata": {},
   "outputs": [
    {
     "data": {
      "text/html": [
       "\n",
       "        <iframe\n",
       "            width=\"100%\"\n",
       "            height=\"650\"\n",
       "            src=\"http://127.0.0.1:8050/\"\n",
       "            frameborder=\"0\"\n",
       "            allowfullscreen\n",
       "            \n",
       "        ></iframe>\n",
       "        "
      ],
      "text/plain": [
       "<IPython.lib.display.IFrame at 0x1afac7c3320>"
      ]
     },
     "metadata": {},
     "output_type": "display_data"
    }
   ],
   "source": [
    "app = dash.Dash()\n",
    "app.layout = html.Div(children=[\n",
    "            html.H1('Mój dashboard',style={'margin':'auto'}),\n",
    "            html.Div('Tu pojawi się content',style={'color':'red'})\n",
    "])\n",
    "if __name__ == '__main__':\n",
    "    app.run()"
   ]
  },
  {
   "cell_type": "code",
   "execution_count": 22,
   "id": "785c4c0f-a943-4ee6-993a-8a1c314e113a",
   "metadata": {},
   "outputs": [],
   "source": [
    "data = [go.Scatter(x=[1,2,3,4],y=[10,20,30,40])]\n",
    "layout = go.Layout(title='Pierwszy wykres',width=600,height=600)\n",
    "fig = go.Figure(data=data,layout=layout)"
   ]
  },
  {
   "cell_type": "code",
   "execution_count": 23,
   "id": "3c42ddad-fc72-4ca6-8e67-2857d71a2b1c",
   "metadata": {},
   "outputs": [
    {
     "data": {
      "text/html": [
       "\n",
       "        <iframe\n",
       "            width=\"100%\"\n",
       "            height=\"650\"\n",
       "            src=\"http://127.0.0.1:8050/\"\n",
       "            frameborder=\"0\"\n",
       "            allowfullscreen\n",
       "            \n",
       "        ></iframe>\n",
       "        "
      ],
      "text/plain": [
       "<IPython.lib.display.IFrame at 0x1afad23ae70>"
      ]
     },
     "metadata": {},
     "output_type": "display_data"
    }
   ],
   "source": [
    "app.layout = html.Div(children=[\n",
    "            html.H1('Mój dashboard',style={'margin':'auto'}),\n",
    "            html.Div('Tu pojawi się content',style={'color':'red'}),\n",
    "            dcc.Graph(id='first-graph',figure=fig)\n",
    "])\n",
    "app.run()"
   ]
  },
  {
   "cell_type": "code",
   "execution_count": 24,
   "id": "a8eeed89-ffd4-4ed9-829f-fe18f28339db",
   "metadata": {},
   "outputs": [
    {
     "data": {
      "text/html": [
       "\n",
       "        <iframe\n",
       "            width=\"100%\"\n",
       "            height=\"650\"\n",
       "            src=\"http://127.0.0.1:8050/\"\n",
       "            frameborder=\"0\"\n",
       "            allowfullscreen\n",
       "            \n",
       "        ></iframe>\n",
       "        "
      ],
      "text/plain": [
       "<IPython.lib.display.IFrame at 0x1afaeab1670>"
      ]
     },
     "metadata": {},
     "output_type": "display_data"
    }
   ],
   "source": [
    "app.layout = html.Div(children=[\n",
    "            html.H1('Mój dashboard',style={'margin':'auto'}),\n",
    "            html.Div('Tu pojawi się content',style={'color':'red'}),\n",
    "            dcc.Graph(id='first-graph'),\n",
    "            html.Label('Slider'),\n",
    "            html.Div([dcc.Slider(id='my-slider',min=1,max=4,step=1,value=1)],\n",
    "            style={'width':'400px'})\n",
    "])\n",
    "app.run()"
   ]
  },
  {
   "cell_type": "code",
   "execution_count": 25,
   "id": "db0f00b0-576b-4c21-992f-784bee9db271",
   "metadata": {},
   "outputs": [],
   "source": [
    "@app.callback(Output(component_id='first-graph',component_property='figure'),\n",
    "            [Input('my-slider','value')])\n",
    "def update_figure(max_range):\n",
    "    data = [go.Scatter(x=[1,2,3,4],y=[10,20,30,40])]\n",
    "    layout = go.Layout(title='Pierwszy wykres',width=600,height=300,\n",
    "    xaxis=dict(range=[1,max_range]))\n",
    "    fig = go.Figure(data=data,layout=layout)\n",
    "    return fig"
   ]
  },
  {
   "cell_type": "code",
   "execution_count": 26,
   "id": "d568348e-7e5b-48b6-9f09-723c2efb8a14",
   "metadata": {},
   "outputs": [
    {
     "data": {
      "text/html": [
       "\n",
       "        <iframe\n",
       "            width=\"100%\"\n",
       "            height=\"650\"\n",
       "            src=\"http://127.0.0.1:8050/\"\n",
       "            frameborder=\"0\"\n",
       "            allowfullscreen\n",
       "            \n",
       "        ></iframe>\n",
       "        "
      ],
      "text/plain": [
       "<IPython.lib.display.IFrame at 0x1afad23ae70>"
      ]
     },
     "metadata": {},
     "output_type": "display_data"
    }
   ],
   "source": [
    "if __name__ == '__main__':\n",
    "    app.run()"
   ]
  },
  {
   "cell_type": "code",
   "execution_count": null,
   "id": "dd30a949-67be-49ee-8d9f-f787ec63056b",
   "metadata": {},
   "outputs": [],
   "source": []
  }
 ],
 "metadata": {
  "kernelspec": {
   "display_name": "Python 3 (ipykernel)",
   "language": "python",
   "name": "python3"
  },
  "language_info": {
   "codemirror_mode": {
    "name": "ipython",
    "version": 3
   },
   "file_extension": ".py",
   "mimetype": "text/x-python",
   "name": "python",
   "nbconvert_exporter": "python",
   "pygments_lexer": "ipython3",
   "version": "3.12.3"
  }
 },
 "nbformat": 4,
 "nbformat_minor": 5
}
