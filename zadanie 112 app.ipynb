{
 "cells": [
  {
   "cell_type": "code",
   "execution_count": 1,
   "id": "f36be630-7377-4031-bde7-c7840bd6f1e2",
   "metadata": {},
   "outputs": [],
   "source": [
    "import pandas as pd\n",
    "import datetime as dt\n",
    "import dash\n",
    "from dash import dcc, html, Input, Output\n",
    "import tab1\n",
    "import tab2\n",
    "import tab3\n",
    "import os\n",
    "import plotly.graph_objects as go"
   ]
  },
  {
   "cell_type": "code",
   "execution_count": 2,
   "id": "759e9b74-c71b-4737-988a-56a2e8adfb57",
   "metadata": {},
   "outputs": [],
   "source": [
    "class db:\n",
    "    def __init__(self):\n",
    "        self.transactions = db.transactions_init()\n",
    "        self.cc = pd.read_csv(r'db\\country_codes.csv',index_col=0)\n",
    "        self.customers = pd.read_csv(r'db\\customers.csv',index_col=0)\n",
    "        self.prod_info = pd.read_csv(r'db\\prod_cat_info.csv')\n",
    "    @staticmethod\n",
    "    def transactions_init():\n",
    "        transactions = pd.DataFrame()\n",
    "        src = r'db\\transactions'\n",
    "        dfs = []\n",
    "        for filename in os.listdir(src):\n",
    "            path = os.path.join(src, filename)\n",
    "            df = pd.read_csv(path, index_col=0)\n",
    "            print(f\"{filename}: {df.columns.tolist()}\")\n",
    "            dfs.append(df)\n",
    "        transactions = pd.concat(dfs)\n",
    "\n",
    "        print(\"Połączono:\", transactions.shape)\n",
    "\n",
    "        if 'tran_date' not in transactions.columns:\n",
    "            raise ValueError(\"'tran_date' column is missing!\")\n",
    "\n",
    "        def convert_dates(x):\n",
    "            try:\n",
    "                return dt.datetime.strptime(x,'%d-%m-%Y')\n",
    "            except:\n",
    "                return dt.datetime.strptime(x,'%d/%m/%Y')\n",
    "                \n",
    "        transactions['tran_date'] = transactions['tran_date'].apply(lambda x: convert_dates(x))\n",
    "        return transactions\n",
    "    def merge(self):\n",
    "        df = self.transactions.join(self.prod_info.drop_duplicates(subset=['prod_cat_code']).set_index('prod_cat_code')['prod_cat'],on='prod_cat_code',how='left')\n",
    "        df = df.join(self.prod_info.drop_duplicates(subset=['prod_sub_cat_code']).set_index('prod_sub_cat_code')['prod_subcat'],on='prod_subcat_code',how='left')\n",
    "        df = df.join(self.customers.join(self.cc,on='country_code').set_index('customer_Id'),on='cust_id')\n",
    "        self.merged = df"
   ]
  },
  {
   "cell_type": "code",
   "execution_count": 3,
   "id": "c08dce94-1467-40a2-a31b-55bd7ff1518a",
   "metadata": {},
   "outputs": [
    {
     "name": "stdout",
     "output_type": "stream",
     "text": [
      "transactions-2016.csv: ['transaction_id', 'cust_id', 'tran_date', 'prod_subcat_code', 'prod_cat_code', 'Qty', 'Rate', 'Tax', 'total_amt', 'Store_type']\n",
      "transactions-2017.csv: ['transaction_id', 'cust_id', 'tran_date', 'prod_subcat_code', 'prod_cat_code', 'Qty', 'Rate', 'Tax', 'total_amt', 'Store_type']\n",
      "transactions-2018.csv: ['transaction_id', 'cust_id', 'tran_date', 'prod_subcat_code', 'prod_cat_code', 'Qty', 'Rate', 'Tax', 'total_amt', 'Store_type']\n",
      "transactions-2019.csv: ['transaction_id', 'cust_id', 'tran_date', 'prod_subcat_code', 'prod_cat_code', 'Qty', 'Rate', 'Tax', 'total_amt', 'Store_type']\n",
      "Połączono: (23053, 10)\n"
     ]
    }
   ],
   "source": [
    "df = db()\n",
    "df.merge()"
   ]
  },
  {
   "cell_type": "code",
   "execution_count": 4,
   "id": "6efd6a36-7a1b-4a55-a892-e2c17c59d14a",
   "metadata": {},
   "outputs": [],
   "source": [
    "external_stylesheets = ['https://codepen.io/chriddyp/pen/bWLwgP.css']\n",
    "\n",
    "app = dash.Dash(__name__, external_stylesheets=external_stylesheets, suppress_callback_exceptions=True)"
   ]
  },
  {
   "cell_type": "code",
   "execution_count": 5,
   "id": "ec01eb9d-fa3a-439a-a0c5-07f91f4df167",
   "metadata": {},
   "outputs": [],
   "source": [
    "app.layout = html.Div([html.Div([dcc.Tabs(id='tabs',value='tab-1',children=[\n",
    "                            dcc.Tab(label='Sprzedaż globalna',value='tab-1'),\n",
    "                            dcc.Tab(label='Produkty',value='tab-2'),\n",
    "                            dcc.Tab(label='Kanały sprzedaży', value='tab-3')\n",
    "                            ]),\n",
    "                            html.Div(id='tabs-content')\n",
    "                    ],style={'width':'80%','margin':'auto'})],\n",
    "                    style={'height':'100%'})"
   ]
  },
  {
   "cell_type": "code",
   "execution_count": 6,
   "id": "4d579429-38ec-46e5-a66c-eca1cf52a394",
   "metadata": {},
   "outputs": [],
   "source": [
    "@app.callback(Output('tabs-content','children'),[Input('tabs','value')])\n",
    "def render_content(tab):\n",
    "\n",
    "    if tab == 'tab-1':\n",
    "        return tab1.render_tab(df.merged)\n",
    "    elif tab == 'tab-2':\n",
    "        return tab2.render_tab(df.merged)\n",
    "    elif tab == 'tab-3':\n",
    "        return tab3.render_tab(df.merged)"
   ]
  },
  {
   "cell_type": "code",
   "execution_count": 7,
   "id": "dbb03cff-8976-4eec-aa3d-2672f89add79",
   "metadata": {},
   "outputs": [],
   "source": [
    "## tab1 callbacks\n",
    "@app.callback(Output('bar-sales','figure'),\n",
    "    [Input('sales-range','start_date'),Input('sales-range','end_date')])\n",
    "def tab1_bar_sales(start_date,end_date):\n",
    "\n",
    "    truncated = df.merged[(df.merged['tran_date']>=start_date)&(df.merged['tran_date']<=end_date)]\n",
    "    grouped = truncated[truncated['total_amt']>0].groupby([pd.Grouper(key='tran_date',freq='M'),'Store_type'])['total_amt'].sum().round(2).unstack()\n",
    "\n",
    "    traces = []\n",
    "    for col in grouped.columns:\n",
    "        traces.append(go.Bar(x=grouped.index,y=grouped[col],name=col,hoverinfo='text',\n",
    "        hovertext=[f'{y/1e3:.2f}k' for y in grouped[col].values]))\n",
    "\n",
    "    data = traces\n",
    "    fig = go.Figure(data=data,layout=go.Layout(title='Przychody',barmode='stack',legend=dict(x=0,y=-0.5)))\n",
    "\n",
    "    return fig"
   ]
  },
  {
   "cell_type": "code",
   "execution_count": 8,
   "id": "e1fa747a-1b11-4260-ba89-afe65afa730e",
   "metadata": {},
   "outputs": [],
   "source": [
    "@app.callback(Output('choropleth-sales','figure'),\n",
    "            [Input('sales-range','start_date'),Input('sales-range','end_date')])\n",
    "def tab1_choropleth_sales(start_date,end_date):\n",
    "\n",
    "    truncated = df.merged[(df.merged['tran_date']>=start_date)&(df.merged['tran_date']<=end_date)]\n",
    "    grouped = truncated[truncated['total_amt']>0].groupby('country')['total_amt'].sum().round(2)\n",
    "\n",
    "    trace0 = go.Choropleth(colorscale='Viridis',reversescale=True,\n",
    "                            locations=grouped.index,locationmode='country names',\n",
    "                            z = grouped.values, colorbar=dict(title='Sales'))\n",
    "    data = [trace0]\n",
    "    fig = go.Figure(data=data,layout=go.Layout(title='Mapa',geo=dict(showframe=False,projection={'type':'natural earth'})))\n",
    "\n",
    "    return fig"
   ]
  },
  {
   "cell_type": "code",
   "execution_count": 9,
   "id": "14fc1ea8-645f-4690-b9fa-38bae0a958d7",
   "metadata": {},
   "outputs": [],
   "source": [
    "## tab2 callbacks\n",
    "@app.callback(Output('barh-prod-subcat','figure'),\n",
    "            [Input('prod_dropdown','value')])\n",
    "def tab2_barh_prod_subcat(chosen_cat):\n",
    "\n",
    "    grouped = df.merged[(df.merged['total_amt']>0)&(df.merged['prod_cat']==chosen_cat)].pivot_table(index='prod_subcat',columns='Gender',values='total_amt',aggfunc='sum').assign(_sum=lambda x: x['F']+x['M']).sort_values(by='_sum').round(2)\n",
    "\n",
    "    traces = []\n",
    "    for col in ['F','M']:\n",
    "        traces.append(go.Bar(x=grouped[col],y=grouped.index,orientation='h',name=col))\n",
    "\n",
    "    data = traces\n",
    "    fig = go.Figure(data=data,layout=go.Layout(barmode='stack',margin={'t':20,}))\n",
    "    return fig"
   ]
  },
  {
   "cell_type": "code",
   "execution_count": 10,
   "id": "344c5be5-b6a1-4347-86f8-5888b5b4df28",
   "metadata": {},
   "outputs": [],
   "source": [
    "## tab3 callbacks\n",
    "@app.callback(Output('weekdays-sales', 'figure'), [Input('tabs', 'value')])\n",
    "def tab3_weekday_sales(tab_value):\n",
    "    df_filtered = df.merged[df.merged['total_amt'] > 0].copy()\n",
    "    df_filtered['weekday'] = df_filtered['tran_date'].dt.dayofweek\n",
    "    order = ['Pon', 'Wt', 'Śr', 'Czw', 'Pt', 'Sob', 'Niedz']\n",
    "    df_filtered['weekday'] = df_filtered['weekday'].map(dict(enumerate(order)))\n",
    "\n",
    "    grouped = df_filtered.groupby(['weekday', 'Store_type'])['total_amt'].sum().unstack().reindex(order)\n",
    "\n",
    "    traces = []\n",
    "    for col in grouped.columns:\n",
    "        traces.append(go.Scatter(x=grouped.index, y=grouped[col], mode='lines+markers', name=col))\n",
    "\n",
    "    fig = go.Figure(data=traces, layout=go.Layout(title='Sprzedaż wg dnia tygodnia', xaxis_title='Dzień tygodnia', yaxis_title='Sprzedaż'))\n",
    "\n",
    "    return fig"
   ]
  },
  {
   "cell_type": "code",
   "execution_count": 11,
   "id": "ef611e57-78ed-4daa-9e71-3a724ddf9561",
   "metadata": {},
   "outputs": [],
   "source": [
    "@app.callback(Output('customer_age','figure'),\n",
    "            [Input('tabs','value')])\n",
    "def tab3_customer_age(tab_value):\n",
    "    df.merged['age'] = (pd.to_datetime('today') - pd.to_datetime(df.merged['DOB'])).dt.days // 365\n",
    "    \n",
    "    bins = [0, 29, 44, 59, 120]\n",
    "    labels = ['18-29', '30-44', '45-59', '60+']\n",
    "    df.merged['age_group'] = pd.cut(df.merged['age'], bins=bins, labels=labels, right=True)\n",
    "\n",
    "    grouped = df.merged[df.merged['total_amt'] > 0].groupby(['age_group', 'Store_type'])['total_amt'].sum().unstack().fillna(0).round(2)\n",
    "    \n",
    "    traces = []\n",
    "    for col in grouped.columns:\n",
    "        traces.append(go.Bar(name=col, x=grouped.index, y=grouped[col]))\n",
    "    \n",
    "    fig = go.Figure(data=traces)\n",
    "    fig.update_layout(\n",
    "        barmode='group',\n",
    "        title='Udział grup wiekowych w sprzedaży wg kanału',\n",
    "        xaxis_title='Grupa wiekowa',\n",
    "        yaxis_title='Wartość sprzedaży'\n",
    "    )\n",
    "    return fig"
   ]
  },
  {
   "cell_type": "code",
   "execution_count": 12,
   "id": "3ebd44f1-34c1-44a7-9da6-1c118d341319",
   "metadata": {},
   "outputs": [
    {
     "data": {
      "text/html": [
       "<div>\n",
       "<style scoped>\n",
       "    .dataframe tbody tr th:only-of-type {\n",
       "        vertical-align: middle;\n",
       "    }\n",
       "\n",
       "    .dataframe tbody tr th {\n",
       "        vertical-align: top;\n",
       "    }\n",
       "\n",
       "    .dataframe thead th {\n",
       "        text-align: right;\n",
       "    }\n",
       "</style>\n",
       "<table border=\"1\" class=\"dataframe\">\n",
       "  <thead>\n",
       "    <tr style=\"text-align: right;\">\n",
       "      <th></th>\n",
       "      <th>transaction_id</th>\n",
       "      <th>cust_id</th>\n",
       "      <th>tran_date</th>\n",
       "      <th>prod_subcat_code</th>\n",
       "      <th>prod_cat_code</th>\n",
       "      <th>Qty</th>\n",
       "      <th>Rate</th>\n",
       "      <th>Tax</th>\n",
       "      <th>total_amt</th>\n",
       "      <th>Store_type</th>\n",
       "      <th>prod_cat</th>\n",
       "      <th>prod_subcat</th>\n",
       "      <th>DOB</th>\n",
       "      <th>Gender</th>\n",
       "      <th>country_code</th>\n",
       "      <th>country</th>\n",
       "    </tr>\n",
       "  </thead>\n",
       "  <tbody>\n",
       "    <tr>\n",
       "      <th>16062</th>\n",
       "      <td>40303022895</td>\n",
       "      <td>272142</td>\n",
       "      <td>2016-12-31</td>\n",
       "      <td>1</td>\n",
       "      <td>2</td>\n",
       "      <td>5</td>\n",
       "      <td>537</td>\n",
       "      <td>281.925</td>\n",
       "      <td>2966.925</td>\n",
       "      <td>Flagship store</td>\n",
       "      <td>Footwear</td>\n",
       "      <td>Women</td>\n",
       "      <td>13-10-1988</td>\n",
       "      <td>M</td>\n",
       "      <td>8.0</td>\n",
       "      <td>Denmark</td>\n",
       "    </tr>\n",
       "    <tr>\n",
       "      <th>16063</th>\n",
       "      <td>47557596721</td>\n",
       "      <td>273764</td>\n",
       "      <td>2016-12-31</td>\n",
       "      <td>8</td>\n",
       "      <td>3</td>\n",
       "      <td>-1</td>\n",
       "      <td>-1037</td>\n",
       "      <td>108.885</td>\n",
       "      <td>-1145.885</td>\n",
       "      <td>Flagship store</td>\n",
       "      <td>Electronics</td>\n",
       "      <td>Personal Appliances</td>\n",
       "      <td>13-03-1982</td>\n",
       "      <td>M</td>\n",
       "      <td>8.0</td>\n",
       "      <td>Denmark</td>\n",
       "    </tr>\n",
       "  </tbody>\n",
       "</table>\n",
       "</div>"
      ],
      "text/plain": [
       "       transaction_id  cust_id  tran_date  prod_subcat_code  prod_cat_code  \\\n",
       "16062     40303022895   272142 2016-12-31                 1              2   \n",
       "16063     47557596721   273764 2016-12-31                 8              3   \n",
       "\n",
       "       Qty  Rate      Tax  total_amt      Store_type     prod_cat  \\\n",
       "16062    5   537  281.925   2966.925  Flagship store     Footwear   \n",
       "16063   -1 -1037  108.885  -1145.885  Flagship store  Electronics   \n",
       "\n",
       "               prod_subcat         DOB Gender  country_code  country  \n",
       "16062                Women  13-10-1988      M           8.0  Denmark  \n",
       "16063  Personal Appliances  13-03-1982      M           8.0  Denmark  "
      ]
     },
     "execution_count": 12,
     "metadata": {},
     "output_type": "execute_result"
    }
   ],
   "source": [
    "df.merged.head(2)"
   ]
  },
  {
   "cell_type": "code",
   "execution_count": 13,
   "id": "0cfa2702-f3f2-445a-9791-e1e58c18c7db",
   "metadata": {},
   "outputs": [
    {
     "data": {
      "text/html": [
       "\n",
       "        <iframe\n",
       "            width=\"100%\"\n",
       "            height=\"650\"\n",
       "            src=\"http://127.0.0.1:8055/\"\n",
       "            frameborder=\"0\"\n",
       "            allowfullscreen\n",
       "            \n",
       "        ></iframe>\n",
       "        "
      ],
      "text/plain": [
       "<IPython.lib.display.IFrame at 0x1339aaac4d0>"
      ]
     },
     "metadata": {},
     "output_type": "display_data"
    }
   ],
   "source": [
    "if __name__ == '__main__':\n",
    "    app.run(debug=True, port=8055)"
   ]
  },
  {
   "cell_type": "code",
   "execution_count": null,
   "id": "9109a2e4-dea3-46d6-9302-6c1f615592c0",
   "metadata": {},
   "outputs": [],
   "source": []
  }
 ],
 "metadata": {
  "kernelspec": {
   "display_name": "Python 3 (ipykernel)",
   "language": "python",
   "name": "python3"
  },
  "language_info": {
   "codemirror_mode": {
    "name": "ipython",
    "version": 3
   },
   "file_extension": ".py",
   "mimetype": "text/x-python",
   "name": "python",
   "nbconvert_exporter": "python",
   "pygments_lexer": "ipython3",
   "version": "3.12.3"
  }
 },
 "nbformat": 4,
 "nbformat_minor": 5
}
