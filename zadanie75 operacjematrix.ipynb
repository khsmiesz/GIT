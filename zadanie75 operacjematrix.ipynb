{
 "cells": [
  {
   "cell_type": "code",
   "execution_count": 1,
   "id": "9142704d-0f38-482b-822a-1f6d59f0ea97",
   "metadata": {},
   "outputs": [
    {
     "name": "stdout",
     "output_type": "stream",
     "text": [
      "Macierz 1\n",
      "[[1 3 6]\n",
      " [7 1 1]\n",
      " [7 2 7]]\n",
      "Macierz 2\n",
      "[[-9  3  7]\n",
      " [ 7  3  1]\n",
      " [-1 -9  5]]\n"
     ]
    }
   ],
   "source": [
    "import numpy as np\n",
    "macierz_1=np.array([[1,3,6],[7,1,1],[7,2,7]])\n",
    "print(f'Macierz 1\\n{macierz_1}')\n",
    "macierz_2=np.array([[-9,3,7],[7,3,1],[-1,-9,5]])\n",
    "print(f'Macierz 2\\n{macierz_2}')\n"
   ]
  },
  {
   "cell_type": "code",
   "execution_count": 2,
   "id": "4590a184-c68a-4cca-94a5-bb183049272e",
   "metadata": {},
   "outputs": [
    {
     "data": {
      "text/plain": [
       "array([[-8,  6, 13],\n",
       "       [14,  4,  2],\n",
       "       [ 6, -7, 12]])"
      ]
     },
     "execution_count": 2,
     "metadata": {},
     "output_type": "execute_result"
    }
   ],
   "source": [
    "macierz_1+macierz_2"
   ]
  },
  {
   "cell_type": "code",
   "execution_count": 3,
   "id": "e4bf4605-9665-45f8-8cf8-db547c086b41",
   "metadata": {},
   "outputs": [
    {
     "data": {
      "text/plain": [
       "array([[10, 30, 60],\n",
       "       [70, 10, 10],\n",
       "       [70, 20, 70]])"
      ]
     },
     "execution_count": 3,
     "metadata": {},
     "output_type": "execute_result"
    }
   ],
   "source": [
    "macierz_1*10"
   ]
  },
  {
   "cell_type": "code",
   "execution_count": 4,
   "id": "c40c628e-234e-4571-a789-b6550c717f17",
   "metadata": {},
   "outputs": [
    {
     "data": {
      "text/plain": [
       "array([[ -9,   9,  42],\n",
       "       [ 49,   3,   1],\n",
       "       [ -7, -18,  35]])"
      ]
     },
     "execution_count": 4,
     "metadata": {},
     "output_type": "execute_result"
    }
   ],
   "source": [
    "macierz_1*macierz_2\n"
   ]
  },
  {
   "cell_type": "code",
   "execution_count": 5,
   "id": "2607b706-3c32-42b2-97ea-4c8a58492767",
   "metadata": {},
   "outputs": [
    {
     "data": {
      "text/plain": [
       "array([  0,  10,  20,  30,  40,  50,  60,  70,  80,  90, 100])"
      ]
     },
     "execution_count": 5,
     "metadata": {},
     "output_type": "execute_result"
    }
   ],
   "source": [
    "arr=np.arange(0,101,10)\n",
    "arr"
   ]
  },
  {
   "cell_type": "code",
   "execution_count": 7,
   "id": "bc1a1c87-e1d5-41eb-898f-6b6eeed11e59",
   "metadata": {},
   "outputs": [
    {
     "data": {
      "text/plain": [
       "array([[0, 1],\n",
       "       [2, 3],\n",
       "       [4, 5],\n",
       "       [6, 7],\n",
       "       [8, 9]])"
      ]
     },
     "execution_count": 7,
     "metadata": {},
     "output_type": "execute_result"
    }
   ],
   "source": [
    "left=np.arange(10).reshape(5,2)\n",
    "right=np.arange(5).reshape(5,1)\n",
    "left"
   ]
  },
  {
   "cell_type": "code",
   "execution_count": 8,
   "id": "6f8c2703-f759-430e-9f3a-9602d45a5ecd",
   "metadata": {},
   "outputs": [
    {
     "data": {
      "text/plain": [
       "array([[0],\n",
       "       [1],\n",
       "       [2],\n",
       "       [3],\n",
       "       [4]])"
      ]
     },
     "execution_count": 8,
     "metadata": {},
     "output_type": "execute_result"
    }
   ],
   "source": [
    "right"
   ]
  },
  {
   "cell_type": "code",
   "execution_count": 9,
   "id": "2f6e5ab6-bcce-49cd-ae2e-7eef761fd425",
   "metadata": {},
   "outputs": [
    {
     "data": {
      "text/plain": [
       "array([ 0.        ,  3.16227766,  4.47213595,  5.47722558,  6.32455532,\n",
       "        7.07106781,  7.74596669,  8.36660027,  8.94427191,  9.48683298,\n",
       "       10.        ])"
      ]
     },
     "execution_count": 9,
     "metadata": {},
     "output_type": "execute_result"
    }
   ],
   "source": [
    "np.sqrt(arr)"
   ]
  },
  {
   "cell_type": "code",
   "execution_count": 10,
   "id": "d946916e-4b7e-4672-b321-46f96a758f8b",
   "metadata": {},
   "outputs": [
    {
     "data": {
      "text/plain": [
       "array([[0, 4, 1],\n",
       "       [2, 0, 4]])"
      ]
     },
     "execution_count": 10,
     "metadata": {},
     "output_type": "execute_result"
    }
   ],
   "source": [
    "arrm=np.array([[0,4,1],[2,0,4]])\n",
    "arrm"
   ]
  },
  {
   "cell_type": "code",
   "execution_count": 11,
   "id": "a45ab7f5-6fec-4553-b755-496fea39f88d",
   "metadata": {},
   "outputs": [
    {
     "data": {
      "text/plain": [
       "4"
      ]
     },
     "execution_count": 11,
     "metadata": {},
     "output_type": "execute_result"
    }
   ],
   "source": [
    "arrm[0].max()"
   ]
  },
  {
   "cell_type": "code",
   "execution_count": 12,
   "id": "762bbad7-656b-4c23-a9c3-1f4147c4eac2",
   "metadata": {},
   "outputs": [
    {
     "data": {
      "text/plain": [
       "4"
      ]
     },
     "execution_count": 12,
     "metadata": {},
     "output_type": "execute_result"
    }
   ],
   "source": [
    "arrm[1].max()"
   ]
  },
  {
   "cell_type": "code",
   "execution_count": 13,
   "id": "8fd48935-e3ad-4e35-97a7-2848cd786d1d",
   "metadata": {},
   "outputs": [
    {
     "data": {
      "text/plain": [
       "0"
      ]
     },
     "execution_count": 13,
     "metadata": {},
     "output_type": "execute_result"
    }
   ],
   "source": [
    "arrm[0].min()"
   ]
  },
  {
   "cell_type": "code",
   "execution_count": 15,
   "id": "06ecff58-dc78-41d5-a4ba-b0e74f84b14e",
   "metadata": {},
   "outputs": [
    {
     "data": {
      "text/plain": [
       "array([0.62650321, 0.38319441, 0.04778587, 0.01025949, 0.50845459,\n",
       "       0.55572265, 0.98515762, 0.74786429, 0.59297449, 0.82802863])"
      ]
     },
     "execution_count": 15,
     "metadata": {},
     "output_type": "execute_result"
    }
   ],
   "source": [
    "wektor=np.random.uniform(0,1,10)\n",
    "wektor"
   ]
  },
  {
   "cell_type": "code",
   "execution_count": 20,
   "id": "35d81f5d-a082-4413-ad8c-87c8eafc5a1b",
   "metadata": {},
   "outputs": [
    {
     "data": {
      "text/plain": [
       "0.508454586291494"
      ]
     },
     "execution_count": 20,
     "metadata": {},
     "output_type": "execute_result"
    }
   ],
   "source": [
    "target=0.5\n",
    "index=np.abs(wektor-target).argmin()\n",
    "index\n",
    "wektor[index]"
   ]
  },
  {
   "cell_type": "code",
   "execution_count": 25,
   "id": "9e390c26-e37b-4b67-9217-04bdd425e6a2",
   "metadata": {},
   "outputs": [
    {
     "data": {
      "text/plain": [
       "array([0.88399078, 0.6654222 , 0.85558082, 0.89674924, 0.93606577,\n",
       "       0.09663946, 0.22269755, 0.2704832 , 0.53214082, 0.60132758,\n",
       "       0.13308776, 0.13931364, 0.46489355, 0.12194598, 0.06766674,\n",
       "       0.50791314, 0.24539359, 0.94610756, 0.61728198, 0.6103169 ,\n",
       "       0.25730933])"
      ]
     },
     "execution_count": 25,
     "metadata": {},
     "output_type": "execute_result"
    }
   ],
   "source": [
    "vec20=np.random.rand(21)\n",
    "vec20"
   ]
  },
  {
   "cell_type": "code",
   "execution_count": 34,
   "id": "f9ee8937-b036-448d-874e-2302b76caab8",
   "metadata": {},
   "outputs": [
    {
     "data": {
      "text/plain": [
       "array([0.88399078, 0.6654222 , 0.85558082, 0.89674924, 0.        ,\n",
       "       0.09663946, 0.22269755, 0.2704832 , 0.53214082, 0.60132758,\n",
       "       0.13308776, 0.13931364, 0.46489355, 0.12194598, 0.06766674,\n",
       "       0.50791314, 0.24539359, 0.        , 0.61728198, 0.6103169 ,\n",
       "       0.25730933])"
      ]
     },
     "execution_count": 34,
     "metadata": {},
     "output_type": "execute_result"
    }
   ],
   "source": [
    "maks=np.argmax(vec20)\n",
    "vec20[maks]=0\n",
    "vec20"
   ]
  },
  {
   "cell_type": "code",
   "execution_count": 36,
   "id": "4413e401-79c9-414f-ba64-24e32219ce35",
   "metadata": {},
   "outputs": [
    {
     "data": {
      "text/plain": [
       "array([5.0000000e+00, 0.0000000e+00, 1.1308494e+07, 4.0000000e+00])"
      ]
     },
     "execution_count": 36,
     "metadata": {},
     "output_type": "execute_result"
    }
   ],
   "source": [
    "lista=np.array([5, 0.0249139 , 0.11873564, 0., 0.72321586, 11308494, 0.29931472, 0.24439968, 0.61251754, 4])\n",
    "mask=lista%1==0\n",
    "lista[mask]"
   ]
  },
  {
   "cell_type": "code",
   "execution_count": null,
   "id": "e859283f-b29d-4038-a303-4f6478ff4734",
   "metadata": {},
   "outputs": [],
   "source": []
  }
 ],
 "metadata": {
  "kernelspec": {
   "display_name": "Python 3 (ipykernel)",
   "language": "python",
   "name": "python3"
  },
  "language_info": {
   "codemirror_mode": {
    "name": "ipython",
    "version": 3
   },
   "file_extension": ".py",
   "mimetype": "text/x-python",
   "name": "python",
   "nbconvert_exporter": "python",
   "pygments_lexer": "ipython3",
   "version": "3.12.7"
  }
 },
 "nbformat": 4,
 "nbformat_minor": 5
}
