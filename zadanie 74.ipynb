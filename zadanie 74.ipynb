{
 "cells": [
  {
   "cell_type": "code",
   "execution_count": 1,
   "id": "a3a6bdc6-641f-4047-98a7-ed5d8d5e8c2e",
   "metadata": {},
   "outputs": [
    {
     "data": {
      "text/plain": [
       "'1.26.4'"
      ]
     },
     "execution_count": 1,
     "metadata": {},
     "output_type": "execute_result"
    }
   ],
   "source": [
    "import numpy as np\n",
    "np.__version__"
   ]
  },
  {
   "cell_type": "code",
   "execution_count": 2,
   "id": "7c0d6ff2-5a4a-47ad-ab7b-55975ffb5805",
   "metadata": {},
   "outputs": [
    {
     "data": {
      "text/plain": [
       "array([[100, 200,  50, 400],\n",
       "       [ 50,   0,   0, 100],\n",
       "       [350, 100,  50, 200]])"
      ]
     },
     "execution_count": 2,
     "metadata": {},
     "output_type": "execute_result"
    }
   ],
   "source": [
    "import numpy as np\n",
    "exams=np.asarray([[100,200,50,400], [50,0,0,100], [350,100,50,200]])\n",
    "exams"
   ]
  },
  {
   "cell_type": "code",
   "execution_count": 7,
   "id": "ff8214c1-0f25-45da-ab90-c3ac22a47a3a",
   "metadata": {},
   "outputs": [
    {
     "name": "stderr",
     "output_type": "stream",
     "text": [
      "IOPub data rate exceeded.\n",
      "The Jupyter server will temporarily stop sending output\n",
      "to the client in order to avoid crashing it.\n",
      "To change this limit, set the config variable\n",
      "`--ServerApp.iopub_data_rate_limit`.\n",
      "\n",
      "Current values:\n",
      "ServerApp.iopub_data_rate_limit=1000000.0 (bytes/sec)\n",
      "ServerApp.rate_limit_window=3.0 (secs)\n",
      "\n"
     ]
    }
   ],
   "source": [
    "my_list=[i for i in range(1000000)]\n",
    "%time for _ in range(10): my_list2=[x**2 for x in my_list]\n",
    "print(my_list)"
   ]
  },
  {
   "cell_type": "code",
   "execution_count": 8,
   "id": "21c91d88-6792-4835-a77b-ca2f0de422af",
   "metadata": {},
   "outputs": [
    {
     "name": "stdout",
     "output_type": "stream",
     "text": [
      "CPU times: total: 31.2 ms\n",
      "Wall time: 41.2 ms\n",
      "[     0      1      2 ... 999997 999998 999999]\n"
     ]
    }
   ],
   "source": [
    "my_array=np.arange(1000000)\n",
    "%time for _ in range(10): my_array2=my_array**2\n",
    "print(my_array)"
   ]
  },
  {
   "cell_type": "code",
   "execution_count": 9,
   "id": "ff8ad405-34ef-4711-972f-ef8d518bb91c",
   "metadata": {},
   "outputs": [
    {
     "data": {
      "text/plain": [
       "numpy.ndarray"
      ]
     },
     "execution_count": 9,
     "metadata": {},
     "output_type": "execute_result"
    }
   ],
   "source": [
    "one_dim=np.array([1,2,3,4])\n",
    "type(one_dim)"
   ]
  },
  {
   "cell_type": "code",
   "execution_count": 10,
   "id": "025cba38-1f1a-46d5-9e01-6d9889636ba8",
   "metadata": {},
   "outputs": [
    {
     "data": {
      "text/plain": [
       "(4,)"
      ]
     },
     "execution_count": 10,
     "metadata": {},
     "output_type": "execute_result"
    }
   ],
   "source": [
    "one_dim.shape"
   ]
  },
  {
   "cell_type": "code",
   "execution_count": 11,
   "id": "618e7e64-810f-46a3-9113-dec33a50a56c",
   "metadata": {},
   "outputs": [
    {
     "data": {
      "text/plain": [
       "1"
      ]
     },
     "execution_count": 11,
     "metadata": {},
     "output_type": "execute_result"
    }
   ],
   "source": [
    "one_dim.ndim"
   ]
  },
  {
   "cell_type": "code",
   "execution_count": 13,
   "id": "c1935ca0-ab37-40cd-a15c-12280517bcc3",
   "metadata": {},
   "outputs": [
    {
     "name": "stdout",
     "output_type": "stream",
     "text": [
      "(1, 4)\n",
      "2\n"
     ]
    },
    {
     "data": {
      "text/plain": [
       "array([[1, 2, 3, 4]])"
      ]
     },
     "execution_count": 13,
     "metadata": {},
     "output_type": "execute_result"
    }
   ],
   "source": [
    "one_dim_horizontal=np.array([[1,2,3,4]])\n",
    "print(one_dim_horizontal.shape)\n",
    "print(one_dim_horizontal.ndim)\n",
    "one_dim_horizontal"
   ]
  },
  {
   "cell_type": "code",
   "execution_count": 14,
   "id": "2d09a1ae-6d05-46d1-9d4d-efc3fda8d6b8",
   "metadata": {},
   "outputs": [
    {
     "data": {
      "text/plain": [
       "array([[1],\n",
       "       [2],\n",
       "       [3],\n",
       "       [4]])"
      ]
     },
     "execution_count": 14,
     "metadata": {},
     "output_type": "execute_result"
    }
   ],
   "source": [
    "one_dim_vertical=one_dim_horizontal.reshape(-1,1)\n",
    "one_dim_vertical"
   ]
  },
  {
   "cell_type": "code",
   "execution_count": 15,
   "id": "0efd643d-166a-4e4d-9706-26163b3adf78",
   "metadata": {},
   "outputs": [
    {
     "name": "stdout",
     "output_type": "stream",
     "text": [
      "[ 5 10 20] int32\n",
      "[ 5. 10. 20.] float64\n",
      "['5' '10' '20'] <U11\n"
     ]
    }
   ],
   "source": [
    "arr_01 = np.array([5, 10, 20])\n",
    "print(arr_01, arr_01.dtype)\n",
    "arr_02 = np.array([5, 10, 20.0])\n",
    "print(arr_02, arr_02.dtype)\n",
    "arr_03 = np.array([5, 10, '20'])\n",
    "print(arr_03, arr_03.dtype)"
   ]
  },
  {
   "cell_type": "code",
   "execution_count": 16,
   "id": "5aa40e73-9406-467e-8d24-636d35086def",
   "metadata": {},
   "outputs": [
    {
     "data": {
      "text/plain": [
       "array([0.7125083 , 0.07314553, 0.67214596, 0.51873879, 0.1542455 ,\n",
       "       0.39033263, 0.84679166, 0.30638746, 0.42535874, 0.93052194])"
      ]
     },
     "execution_count": 16,
     "metadata": {},
     "output_type": "execute_result"
    }
   ],
   "source": [
    "np.random.rand(10)"
   ]
  },
  {
   "cell_type": "code",
   "execution_count": 20,
   "id": "1537a048-0c2a-41f0-a4b0-37a7735b04a4",
   "metadata": {},
   "outputs": [
    {
     "name": "stdout",
     "output_type": "stream",
     "text": [
      "[0 1 2 3 4]\n",
      "[[0 1 2 3 4]\n",
      " [0 1 2 3 4]\n",
      " [0 1 2 3 4]\n",
      " [0 1 2 3 4]\n",
      " [0 1 2 3 4]]\n"
     ]
    }
   ],
   "source": [
    "row=np.arange(5)\n",
    "print(row)\n",
    "matrix=np.tile(row, (5,1))\n",
    "print(matrix)\n"
   ]
  },
  {
   "cell_type": "code",
   "execution_count": null,
   "id": "2669fab5-a6da-405b-bbe5-07cc9de5fa50",
   "metadata": {},
   "outputs": [],
   "source": []
  }
 ],
 "metadata": {
  "kernelspec": {
   "display_name": "Python 3 (ipykernel)",
   "language": "python",
   "name": "python3"
  },
  "language_info": {
   "codemirror_mode": {
    "name": "ipython",
    "version": 3
   },
   "file_extension": ".py",
   "mimetype": "text/x-python",
   "name": "python",
   "nbconvert_exporter": "python",
   "pygments_lexer": "ipython3",
   "version": "3.12.7"
  }
 },
 "nbformat": 4,
 "nbformat_minor": 5
}
