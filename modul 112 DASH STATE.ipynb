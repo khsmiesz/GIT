{
 "cells": [
  {
   "cell_type": "code",
   "execution_count": 8,
   "id": "261a194a-5f7c-4607-9dd7-819371f35344",
   "metadata": {},
   "outputs": [],
   "source": [
    "import dash\n",
    "from dash import dcc, html, Input, Output, State"
   ]
  },
  {
   "cell_type": "code",
   "execution_count": 14,
   "id": "e184dc9a-bd87-4321-bc36-ca34e0b3eccb",
   "metadata": {},
   "outputs": [],
   "source": [
    "app = dash.Dash()\n",
    "app.layout = html.Div([html.H1('Kalkulator'),\n",
    "                       html.Label('Czynnik #1'),\n",
    "                       dcc.Input(id='product-1', placeholder='5',\n",
    "                                 type='number', value=''),\n",
    "                       html.Br(),\n",
    "                       html.Label('Czynnik #2'),\n",
    "                       dcc.Input(id='product-2', placeholder='2',\n",
    "                                 type='number', value=''),\n",
    "                       html.Button('Oblicz!',id='submit-btn'),\n",
    "                       html.Div(id='output', style={'font-size': '30px', 'margin': '10px 10px'})])"
   ]
  },
  {
   "cell_type": "code",
   "execution_count": 15,
   "id": "5425a318-90d7-4b90-b749-744c4f68cfd8",
   "metadata": {},
   "outputs": [],
   "source": [
    "@app.callback(Output('output', 'children'), [Input('submit-btn', 'n_clicks'), State('product-1', 'value'), State('product-2', 'value')])\n",
    "def multiply(n_clicks, prod_1, prod_2):\n",
    "    return prod_1 * prod_2"
   ]
  },
  {
   "cell_type": "code",
   "execution_count": 16,
   "id": "7a9c09a8-d23f-494e-9a19-91a43835b06e",
   "metadata": {},
   "outputs": [
    {
     "data": {
      "text/html": [
       "\n",
       "        <iframe\n",
       "            width=\"100%\"\n",
       "            height=\"650\"\n",
       "            src=\"http://127.0.0.1:8052/\"\n",
       "            frameborder=\"0\"\n",
       "            allowfullscreen\n",
       "            \n",
       "        ></iframe>\n",
       "        "
      ],
      "text/plain": [
       "<IPython.lib.display.IFrame at 0x23406a56750>"
      ]
     },
     "metadata": {},
     "output_type": "display_data"
    },
    {
     "name": "stderr",
     "output_type": "stream",
     "text": [
      "[2025-06-09 22:40:02,378] ERROR in app: Exception on /_dash-update-component [POST]\n",
      "Traceback (most recent call last):\n",
      "  File \"C:\\Users\\smile\\anaconda3\\Lib\\site-packages\\flask\\app.py\", line 1473, in wsgi_app\n",
      "    response = self.full_dispatch_request()\n",
      "               ^^^^^^^^^^^^^^^^^^^^^^^^^^^^\n",
      "  File \"C:\\Users\\smile\\anaconda3\\Lib\\site-packages\\flask\\app.py\", line 882, in full_dispatch_request\n",
      "    rv = self.handle_user_exception(e)\n",
      "         ^^^^^^^^^^^^^^^^^^^^^^^^^^^^^\n",
      "  File \"C:\\Users\\smile\\anaconda3\\Lib\\site-packages\\flask\\app.py\", line 880, in full_dispatch_request\n",
      "    rv = self.dispatch_request()\n",
      "         ^^^^^^^^^^^^^^^^^^^^^^^\n",
      "  File \"C:\\Users\\smile\\anaconda3\\Lib\\site-packages\\flask\\app.py\", line 865, in dispatch_request\n",
      "    return self.ensure_sync(self.view_functions[rule.endpoint])(**view_args)  # type: ignore[no-any-return]\n",
      "           ^^^^^^^^^^^^^^^^^^^^^^^^^^^^^^^^^^^^^^^^^^^^^^^^^^^^^^^^^^^^^^^^^\n",
      "  File \"C:\\Users\\smile\\anaconda3\\Lib\\site-packages\\dash\\dash.py\", line 1405, in dispatch\n",
      "    ctx.run(\n",
      "  File \"C:\\Users\\smile\\anaconda3\\Lib\\site-packages\\dash\\_callback.py\", line 529, in add_context\n",
      "    raise err\n",
      "  File \"C:\\Users\\smile\\anaconda3\\Lib\\site-packages\\dash\\_callback.py\", line 518, in add_context\n",
      "    output_value = _invoke_callback(func, *func_args, **func_kwargs)\n",
      "                   ^^^^^^^^^^^^^^^^^^^^^^^^^^^^^^^^^^^^^^^^^^^^^^^^^\n",
      "  File \"C:\\Users\\smile\\anaconda3\\Lib\\site-packages\\dash\\_callback.py\", line 47, in _invoke_callback\n",
      "    return func(*args, **kwargs)  # %% callback invoked %%\n",
      "           ^^^^^^^^^^^^^^^^^^^^^\n",
      "  File \"C:\\Users\\smile\\AppData\\Local\\Temp\\ipykernel_16416\\3787519559.py\", line 3, in multiply\n",
      "    return prod_1 * prod_2\n",
      "           ~~~~~~~^~~~~~~~\n",
      "TypeError: can't multiply sequence by non-int of type 'str'\n"
     ]
    }
   ],
   "source": [
    "if __name__ == '__main__':\n",
    "    app.run(port=8052)"
   ]
  },
  {
   "cell_type": "code",
   "execution_count": null,
   "id": "02c4f365-edf5-4baf-a475-f24c63713638",
   "metadata": {},
   "outputs": [],
   "source": []
  }
 ],
 "metadata": {
  "kernelspec": {
   "display_name": "Python 3 (ipykernel)",
   "language": "python",
   "name": "python3"
  },
  "language_info": {
   "codemirror_mode": {
    "name": "ipython",
    "version": 3
   },
   "file_extension": ".py",
   "mimetype": "text/x-python",
   "name": "python",
   "nbconvert_exporter": "python",
   "pygments_lexer": "ipython3",
   "version": "3.12.3"
  }
 },
 "nbformat": 4,
 "nbformat_minor": 5
}
