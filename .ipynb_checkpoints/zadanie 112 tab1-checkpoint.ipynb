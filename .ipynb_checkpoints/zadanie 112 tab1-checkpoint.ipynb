{
 "cells": [
  {
   "cell_type": "code",
   "execution_count": 8,
   "id": "e10a31a3-f1d1-424f-aa24-036cfbdcbe6d",
   "metadata": {},
   "outputs": [],
   "source": [
    "from dash import html, dcc\n",
    "import plotly.graph_objects as go"
   ]
  },
  {
   "cell_type": "code",
   "execution_count": 9,
   "id": "a4cc22b1-1a76-47fe-b7d9-5a26e1319e6a",
   "metadata": {},
   "outputs": [],
   "source": [
    "def render_tab(df):\n",
    "\n",
    "    layout = html.Div([html.H1('Sprzedaż globalna',style={'text-align':'center'}),\n",
    "                        html.Div([dcc.DatePickerRange(id='sales-range',\n",
    "                        start_date=df['tran_date'].min(),\n",
    "                        end_date=df['tran_date'].max(),\n",
    "                        display_format='YYYY-MM-DD')],style={'width':'100%','text-align':'center'}),\n",
    "                        html.Div([html.Div([dcc.Graph(id='bar-sales')],style={'width':'50%'}),\n",
    "                        html.Div([dcc.Graph(id='choropleth-sales')],style={'width':'50%'})],style={'display':'flex'})\n",
    "                        ])\n",
    "\n",
    "    return layout"
   ]
  },
  {
   "cell_type": "code",
   "execution_count": null,
   "id": "b7d88c54-cd84-489d-9ac8-5e61e9a59a77",
   "metadata": {},
   "outputs": [],
   "source": []
  }
 ],
 "metadata": {
  "kernelspec": {
   "display_name": "Python 3 (ipykernel)",
   "language": "python",
   "name": "python3"
  },
  "language_info": {
   "codemirror_mode": {
    "name": "ipython",
    "version": 3
   },
   "file_extension": ".py",
   "mimetype": "text/x-python",
   "name": "python",
   "nbconvert_exporter": "python",
   "pygments_lexer": "ipython3",
   "version": "3.12.3"
  }
 },
 "nbformat": 4,
 "nbformat_minor": 5
}
