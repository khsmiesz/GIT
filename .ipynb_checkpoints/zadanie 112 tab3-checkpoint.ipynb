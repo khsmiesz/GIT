{
 "cells": [
  {
   "cell_type": "code",
   "execution_count": 5,
   "id": "a8672984-4e8a-408c-9231-76ce00f87a00",
   "metadata": {},
   "outputs": [],
   "source": [
    "import pandas as pd\n",
    "from dash import html, dcc\n",
    "import plotly.graph_objects as go"
   ]
  },
  {
   "cell_type": "code",
   "execution_count": 4,
   "id": "649ad982-715c-4682-88e0-9032dd3a39dc",
   "metadata": {},
   "outputs": [],
   "source": [
    "def render_tab(df):\n",
    "\n",
    "    layout = html.Div([html.H1('Kanały sprzedaży',style={'text-align':'center'}),\n",
    "                        html.Div([html.Div([dcc.Graph(id='weekdays-sales')],style={'width':'50%'})],style={'display':'flex'}),\n",
    "                        html.Div([html.Div([dcc.Graph(id='customer_age')], style={'width':'50%'})], style={'margin':'auto'})\n",
    "                        ])\n",
    "\n",
    "    return layout"
   ]
  },
  {
   "cell_type": "code",
   "execution_count": null,
   "id": "3a5e24fa-d9f4-4ee9-9b62-37ee001923fc",
   "metadata": {},
   "outputs": [],
   "source": []
  }
 ],
 "metadata": {
  "kernelspec": {
   "display_name": "Python 3 (ipykernel)",
   "language": "python",
   "name": "python3"
  },
  "language_info": {
   "codemirror_mode": {
    "name": "ipython",
    "version": 3
   },
   "file_extension": ".py",
   "mimetype": "text/x-python",
   "name": "python",
   "nbconvert_exporter": "python",
   "pygments_lexer": "ipython3",
   "version": "3.12.3"
  }
 },
 "nbformat": 4,
 "nbformat_minor": 5
}
