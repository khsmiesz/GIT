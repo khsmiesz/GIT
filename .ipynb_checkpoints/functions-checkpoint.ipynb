{
 "cells": [
  {
   "cell_type": "markdown",
   "id": "7589924b-54d9-47e8-a03f-94cb96b4d9e3",
   "metadata": {},
   "source": [
    "Funkcje w pythonie definiujemy poprzez metodę def - podajemy nazwę funkcji oraz ustalamy co ma robić"
   ]
  },
  {
   "cell_type": "code",
   "execution_count": null,
   "id": "1bdb17f5-6883-49ed-80c3-a35d019addf5",
   "metadata": {},
   "outputs": [],
   "source": [
    "def Dodaj(a,b): suma=a+b"
   ]
  },
  {
   "cell_type": "markdown",
   "id": "20fe5dc9-004d-4119-90bd-8311861d2b6c",
   "metadata": {},
   "source": [
    "Aby zobaczyć wynik takiej funkcji musimy ją wywołać z pożądanymi argumentami, a następnie napisać komendę print(), gdzie w nawiasie podamy nazwę funkcji"
   ]
  },
  {
   "cell_type": "code",
   "execution_count": null,
   "id": "00ae3524-0a80-4653-896c-ad8740323fc9",
   "metadata": {},
   "outputs": [],
   "source": [
    "print(Dodaj(5,5))"
   ]
  }
 ],
 "metadata": {
  "kernelspec": {
   "display_name": "Python 3 (ipykernel)",
   "language": "python",
   "name": "python3"
  },
  "language_info": {
   "codemirror_mode": {
    "name": "ipython",
    "version": 3
   },
   "file_extension": ".py",
   "mimetype": "text/x-python",
   "name": "python",
   "nbconvert_exporter": "python",
   "pygments_lexer": "ipython3",
   "version": "3.12.7"
  }
 },
 "nbformat": 4,
 "nbformat_minor": 5
}
