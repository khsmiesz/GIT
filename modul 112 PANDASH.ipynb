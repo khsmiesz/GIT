{
 "cells": [
  {
   "cell_type": "code",
   "execution_count": 1,
   "id": "0689a6e5-01c8-48bc-96ed-4509cbdbcf67",
   "metadata": {},
   "outputs": [],
   "source": [
    "import dash\n",
    "from dash import dcc, html, Input, Output\n",
    "import plotly.graph_objs as go\n",
    "import pandas as pd\n",
    "from plotly.subplots import make_subplots\n",
    "import datetime as dt"
   ]
  },
  {
   "cell_type": "code",
   "execution_count": 2,
   "id": "d233f80a-fe2f-4816-9a4d-73bbc21ffdf5",
   "metadata": {},
   "outputs": [
    {
     "data": {
      "text/html": [
       "<div>\n",
       "<style scoped>\n",
       "    .dataframe tbody tr th:only-of-type {\n",
       "        vertical-align: middle;\n",
       "    }\n",
       "\n",
       "    .dataframe tbody tr th {\n",
       "        vertical-align: top;\n",
       "    }\n",
       "\n",
       "    .dataframe thead th {\n",
       "        text-align: right;\n",
       "    }\n",
       "</style>\n",
       "<table border=\"1\" class=\"dataframe\">\n",
       "  <thead>\n",
       "    <tr style=\"text-align: right;\">\n",
       "      <th></th>\n",
       "      <th>Wrocław Temperature [2 m elevation corrected]</th>\n",
       "      <th>Wrocław Precipitation Total</th>\n",
       "      <th>Wrocław Wind Speed [10 m]</th>\n",
       "      <th>Wrocław Wind Direction [10 m]</th>\n",
       "    </tr>\n",
       "    <tr>\n",
       "      <th>timestamp</th>\n",
       "      <th></th>\n",
       "      <th></th>\n",
       "      <th></th>\n",
       "      <th></th>\n",
       "    </tr>\n",
       "  </thead>\n",
       "  <tbody>\n",
       "    <tr>\n",
       "      <th>2020-06-01 00:00:00</th>\n",
       "      <td>13.444630</td>\n",
       "      <td>0.0</td>\n",
       "      <td>11.038736</td>\n",
       "      <td>8.325638</td>\n",
       "    </tr>\n",
       "    <tr>\n",
       "      <th>2020-06-01 01:00:00</th>\n",
       "      <td>12.224629</td>\n",
       "      <td>0.0</td>\n",
       "      <td>10.738927</td>\n",
       "      <td>7.125000</td>\n",
       "    </tr>\n",
       "    <tr>\n",
       "      <th>2020-06-01 02:00:00</th>\n",
       "      <td>11.424629</td>\n",
       "      <td>0.0</td>\n",
       "      <td>10.922400</td>\n",
       "      <td>12.680374</td>\n",
       "    </tr>\n",
       "  </tbody>\n",
       "</table>\n",
       "</div>"
      ],
      "text/plain": [
       "                     Wrocław Temperature [2 m elevation corrected]  \\\n",
       "timestamp                                                            \n",
       "2020-06-01 00:00:00                                      13.444630   \n",
       "2020-06-01 01:00:00                                      12.224629   \n",
       "2020-06-01 02:00:00                                      11.424629   \n",
       "\n",
       "                     Wrocław Precipitation Total  Wrocław Wind Speed [10 m]  \\\n",
       "timestamp                                                                     \n",
       "2020-06-01 00:00:00                          0.0                  11.038736   \n",
       "2020-06-01 01:00:00                          0.0                  10.738927   \n",
       "2020-06-01 02:00:00                          0.0                  10.922400   \n",
       "\n",
       "                     Wrocław Wind Direction [10 m]  \n",
       "timestamp                                           \n",
       "2020-06-01 00:00:00                       8.325638  \n",
       "2020-06-01 01:00:00                       7.125000  \n",
       "2020-06-01 02:00:00                      12.680374  "
      ]
     },
     "execution_count": 2,
     "metadata": {},
     "output_type": "execute_result"
    }
   ],
   "source": [
    "df = pd.read_csv('dataexport_20200613T163949.csv',\n",
    "    skiprows=9,index_col=0,parse_dates=True)\n",
    "df.head(3)"
   ]
  },
  {
   "cell_type": "code",
   "execution_count": 3,
   "id": "5e5df2db-d029-4c32-9b1a-4a397dc9acd8",
   "metadata": {},
   "outputs": [],
   "source": [
    "app = dash.Dash()\n",
    "app.layout=html.Div(children=[html.H1('Pogoda we Wrocławiu',style={'text-align':'center'}),\n",
    "                              dcc.Graph(id='wro-weather'),\n",
    "                              dcc.RangeSlider(id='date-slider',\n",
    "                                              min=df.index.min().day,\n",
    "                                              max=df.index.max().day,\n",
    "                                              step=1,\n",
    "                                              marks={date.day:date.strftime('%m-%d') for date in df.index.unique()},\n",
    "                                              value=[df.index.min().day,df.index.max().day]),\n",
    "                              html.Div(id='hover-details',style={'text-align':'center','margin-top':'20px','font-weight':'bold'})],\n",
    "            style={'width':'80%','margin':'auto'})"
   ]
  },
  {
   "cell_type": "code",
   "execution_count": 4,
   "id": "1ddf031c-0a2a-4d1f-bf1e-588aaec44962",
   "metadata": {},
   "outputs": [],
   "source": [
    "@app.callback(Output('wro-weather','figure'),\n",
    "              Input('date-slider','value'))\n",
    "def update_heatmap(x_range):\n",
    "    start=dt.datetime(2020,6, x_range[0])\n",
    "    end=dt.datetime(2020,6,x_range[1])+pd.Timedelta(hours=23)\n",
    "    wro_temp = df.truncate(before=start, after=end)\n",
    "    weekdays=pd.Series(wro_temp.index.weekday).map({0:'Poniedziałek', 1:'Wtorek', 2:'Środa', 3:'Czwartek', 4:'Piątek', 5:'Sobota', 6:'Niedziela'})\n",
    "    fig = make_subplots(rows=1, cols=2, subplot_titles=['Temperatura', 'Opady'], shared_yaxes=True)\n",
    "    fig.add_trace(go.Heatmap(x=wro_temp.index.hour, y=weekdays, z=wro_temp['Wrocław Temperature [2 m elevation corrected]'].tolist(),\n",
    "                                colorscale='Jet',\n",
    "                                showscale=False),row=1,col=1)\n",
    "    fig.add_trace(go.Heatmap(x=wro_temp.index.hour,\n",
    "                                y=weekdays,\n",
    "                                z=wro_temp['Wrocław Precipitation Total'].tolist(),\n",
    "                                colorscale='Cividis',\n",
    "                                showscale=False),row=1,col=2)\n",
    "    return fig\n",
    "@app.callback(Output('hover-details','children'),\n",
    "    Input('wro-weather','hoverData'))\n",
    "def update_hover_details(hoverData):\n",
    "    dpoint = hoverData['points'][0]\n",
    "    if dpoint['curveNumber'] == 0:\n",
    "        return f\"{dpoint['y']}: temperatura powietrza o godzinie {dpoint['x']} wynosiła {round(dpoint['z'],2)}\"\n",
    "    elif dpoint['curveNumber'] == 1:\n",
    "        return f\"{dpoint['y']}: opady o godzinie {dpoint['x']} wynosiły {round(dpoint['z'],2)}\"\n"
   ]
  },
  {
   "cell_type": "code",
   "execution_count": 5,
   "id": "68250deb-5cd4-41d1-9cac-3ac3677544d7",
   "metadata": {},
   "outputs": [
    {
     "data": {
      "text/html": [
       "\n",
       "        <iframe\n",
       "            width=\"100%\"\n",
       "            height=\"650\"\n",
       "            src=\"http://127.0.0.1:8051/\"\n",
       "            frameborder=\"0\"\n",
       "            allowfullscreen\n",
       "            \n",
       "        ></iframe>\n",
       "        "
      ],
      "text/plain": [
       "<IPython.lib.display.IFrame at 0x2c0769932c0>"
      ]
     },
     "metadata": {},
     "output_type": "display_data"
    }
   ],
   "source": [
    "if __name__ == '__main__':\n",
    "    app.run(port=8051)"
   ]
  },
  {
   "cell_type": "code",
   "execution_count": null,
   "id": "5b343ab8-fad9-47dd-80bc-5e50ef9285df",
   "metadata": {},
   "outputs": [],
   "source": []
  },
  {
   "cell_type": "code",
   "execution_count": null,
   "id": "bea0f470-613d-425a-9962-656068fa1b8a",
   "metadata": {},
   "outputs": [],
   "source": []
  }
 ],
 "metadata": {
  "kernelspec": {
   "display_name": "Python 3 (ipykernel)",
   "language": "python",
   "name": "python3"
  },
  "language_info": {
   "codemirror_mode": {
    "name": "ipython",
    "version": 3
   },
   "file_extension": ".py",
   "mimetype": "text/x-python",
   "name": "python",
   "nbconvert_exporter": "python",
   "pygments_lexer": "ipython3",
   "version": "3.12.3"
  }
 },
 "nbformat": 4,
 "nbformat_minor": 5
}
