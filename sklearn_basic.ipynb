{
 "cells": [
  {
   "cell_type": "code",
   "execution_count": 22,
   "metadata": {
    "colab": {},
    "colab_type": "code",
    "id": "S37BxeV_iUDw"
   },
   "outputs": [],
   "source": [
    "from sklearn.linear_model import LogisticRegression"
   ]
  },
  {
   "cell_type": "code",
   "execution_count": 23,
   "metadata": {
    "colab": {},
    "colab_type": "code",
    "id": "abICLNzmzzbW"
   },
   "outputs": [],
   "source": [
    "# stworzenie klasyfikatora regresji logistycznej (LogisticRegression)\n",
    "clf = LogisticRegression()"
   ]
  },
  {
   "cell_type": "code",
   "execution_count": 24,
   "metadata": {
    "colab": {},
    "colab_type": "code",
    "id": "-OXmy3iA0Uou"
   },
   "outputs": [],
   "source": [
    "from sklearn.datasets import make_classification\n",
    "\n",
    "# prosty zbiór danych dostarczający losowe dane obiektów dwóch klas\n",
    "# aby przerobić na obiekty 3 klas należy dodac kolejny element do wektora weights i odpowiednio dopasować wagi\n",
    "#tak aby suma wynosiła 1\n",
    "\n",
    "\"\"\"\n",
    "    Przykład tworzenia prostego zbioru danych\n",
    "\"\"\"\n",
    "\n",
    "def load_simple_classifier_dataset(weights=[0.6, 0.4]):\n",
    "    \"\"\"\n",
    "        Metoda generująca prosty zbiór danych\n",
    "        Argumnenty:\n",
    "            weights - tablica 1x ilosc klas jakie chcemy mieć - ile procentowo ma być obiektów każdej klasy. Suma wag musi wynosić 1\n",
    "\n",
    "        Zwraca:\n",
    "            X - dane wejściowe dla modelu\n",
    "            y - true labels dla tych danych wejściowych\n",
    "    \"\"\"\n",
    "\n",
    "    X, y = make_classification(n_samples=1000, n_classes=len(weights), weights=weights, flip_y=0, random_state=1)\n",
    "\n",
    "    return X, y"
   ]
  },
  {
   "cell_type": "code",
   "execution_count": 25,
   "metadata": {
    "colab": {
     "base_uri": "https://localhost:8080/",
     "height": 139
    },
    "colab_type": "code",
    "id": "8vwHl2Jd7gNB",
    "outputId": "2c0f9a0c-607f-477f-da83-4c5352d8b369"
   },
   "outputs": [
    {
     "name": "stdout",
     "output_type": "stream",
     "text": [
      "fitting - training...\n",
      "predicting...\n",
      "true values  [0 0 0 0 0 1 1 0 0 0]\n",
      "predicted    [0 1 0 0 0 1 1 0 0 0]\n",
      "scoring...\n",
      "score =  0.855\n"
     ]
    }
   ],
   "source": [
    "x, y = load_simple_classifier_dataset()\n",
    "\n",
    "print(\"fitting - training...\")\n",
    "clf.fit(x,y)\n",
    "\n",
    "print(\"predicting...\")\n",
    "y_pred = clf.predict(x)\n",
    "\n",
    "# wypisujemy wartości dla pierwszych 10 predykcji\n",
    "\n",
    "print(\"true values \", y[:10])\n",
    "print(\"predicted   \", y_pred[:10])\n",
    "\n",
    "print(\"scoring...\")\n",
    "\n",
    "clf_score = clf.score(x,y)\n",
    "print(\"score = \", clf_score)"
   ]
  },
  {
   "cell_type": "code",
   "execution_count": 26,
   "metadata": {
    "colab": {
     "base_uri": "https://localhost:8080/",
     "height": 173
    },
    "colab_type": "code",
    "id": "aQSfv2jq8Itu",
    "outputId": "ae9372b2-a6dc-4dcc-a376-d82455f80ecd"
   },
   "outputs": [
    {
     "name": "stdout",
     "output_type": "stream",
     "text": [
      "fitting - training...\n",
      "predicting...\n",
      "true values  [0 0 0 0 1 1 1 1 0 0]\n",
      "predicted    [0 0 0 0 0 1 1 0 0 0]\n",
      "scoring...\n",
      "Train score =  1.0\n",
      "Test score =  0.825\n",
      "whole set score =  0.965\n"
     ]
    }
   ],
   "source": [
    "from sklearn.model_selection import train_test_split\n",
    "from sklearn.tree import DecisionTreeClassifier # drzewo decyzyjne -> tree\n",
    "\n",
    "x, y = load_simple_classifier_dataset()\n",
    "\n",
    "X_train, X_test, y_train, y_test = train_test_split(x, y, test_size=0.2)\n",
    "\n",
    "clf = DecisionTreeClassifier()\n",
    "clf_2 = DecisionTreeClassifier()\n",
    "\n",
    "print(\"fitting - training...\")\n",
    "clf.fit(X_train, y_train)\n",
    "\n",
    "print(\"predicting...\")\n",
    "y_pred = clf.predict(X_test)\n",
    "\n",
    "# wypisujemy wartości dla pierwsyzch 10 predykcji\n",
    "\n",
    "print(\"true values \", y_test[:10])\n",
    "print(\"predicted   \", y_pred[:10])\n",
    "\n",
    "print(\"scoring...\")\n",
    "\n",
    "clf_score = clf.score(X_train, y_train)\n",
    "print(\"Train score = \", clf_score)\n",
    "clf_score = clf.score(X_test, y_test)\n",
    "print(\"Test score = \", clf_score)\n",
    "\n",
    "clf_score = clf.score(x,y)\n",
    "print(\"whole set score = \", clf_score)"
   ]
  }
 ],
 "metadata": {
  "colab": {
   "collapsed_sections": [],
   "name": "sklearn basic.ipynb",
   "provenance": []
  },
  "kernelspec": {
   "display_name": "kodilla_env",
   "language": "python",
   "name": "kodilla_env"
  },
  "language_info": {
   "codemirror_mode": {
    "name": "ipython",
    "version": 3
   },
   "file_extension": ".py",
   "mimetype": "text/x-python",
   "name": "python",
   "nbconvert_exporter": "python",
   "pygments_lexer": "ipython3",
   "version": "3.9.13"
  }
 },
 "nbformat": 4,
 "nbformat_minor": 1
}
