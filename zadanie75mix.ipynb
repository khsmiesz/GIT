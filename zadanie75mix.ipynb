{
 "cells": [
  {
   "cell_type": "code",
   "execution_count": 5,
   "id": "997a6df8-9938-4cb0-a2fb-2933f174e31e",
   "metadata": {},
   "outputs": [
    {
     "data": {
      "text/plain": [
       "array([[ 0,  1,  2,  3,  4],\n",
       "       [ 5,  6,  7,  8,  9],\n",
       "       [10, 11, 12, 13, 14],\n",
       "       [15, 16, 17, 18, 19]])"
      ]
     },
     "execution_count": 5,
     "metadata": {},
     "output_type": "execute_result"
    }
   ],
   "source": [
    "import numpy as np\n",
    "arr=np.arange(20).reshape(4,5)\n",
    "arr"
   ]
  },
  {
   "cell_type": "code",
   "execution_count": 6,
   "id": "9cbe9eee-5cab-4884-93b9-738a38e5d678",
   "metadata": {},
   "outputs": [
    {
     "data": {
      "text/plain": [
       "array([[15, 16, 17],\n",
       "       [ 0,  1,  2],\n",
       "       [ 5,  6,  7]])"
      ]
     },
     "execution_count": 6,
     "metadata": {},
     "output_type": "execute_result"
    }
   ],
   "source": [
    "arr[[3,0,1],:3]"
   ]
  },
  {
   "cell_type": "code",
   "execution_count": 7,
   "id": "4b161e23-39b5-4b8c-b107-626d093d8b8a",
   "metadata": {},
   "outputs": [
    {
     "data": {
      "text/plain": [
       "190"
      ]
     },
     "execution_count": 7,
     "metadata": {},
     "output_type": "execute_result"
    }
   ],
   "source": [
    "arr.sum()"
   ]
  },
  {
   "cell_type": "code",
   "execution_count": 8,
   "id": "af2ba0dc-3698-4f32-af73-ff93d0a0bfbc",
   "metadata": {},
   "outputs": [
    {
     "data": {
      "text/plain": [
       "array([[ 7,  8,  9],\n",
       "       [12, 13, 14],\n",
       "       [17, 18, 19]])"
      ]
     },
     "execution_count": 8,
     "metadata": {},
     "output_type": "execute_result"
    }
   ],
   "source": [
    "arr[arr.sum(axis=1)>10,2:]"
   ]
  },
  {
   "cell_type": "code",
   "execution_count": 9,
   "id": "f0492bc2-1732-4c4d-99b0-edcd269b60ad",
   "metadata": {},
   "outputs": [
    {
     "data": {
      "text/plain": [
       "array([6, 7, 8, 9])"
      ]
     },
     "execution_count": 9,
     "metadata": {},
     "output_type": "execute_result"
    }
   ],
   "source": [
    "arr[1, arr.sum(axis=0)>30]"
   ]
  },
  {
   "cell_type": "code",
   "execution_count": 10,
   "id": "75f8a04d-097a-4e74-850e-bc42881928ee",
   "metadata": {},
   "outputs": [
    {
     "data": {
      "text/plain": [
       "array(['e', 'i'], dtype='<U1')"
      ]
     },
     "execution_count": 10,
     "metadata": {},
     "output_type": "execute_result"
    }
   ],
   "source": [
    "a = np.array([97,101,105,111,117,125])\n",
    "b = np.array(['a','e','i','o','u','y'])\n",
    "c=(a>100) & (a<110)\n",
    "b[c]"
   ]
  },
  {
   "cell_type": "code",
   "execution_count": 11,
   "id": "4b39f2e9-0986-4741-85b4-8fb7d22d7947",
   "metadata": {},
   "outputs": [],
   "source": [
    "nextarr=np.array([0,4,1,2,0,4])"
   ]
  },
  {
   "cell_type": "code",
   "execution_count": 12,
   "id": "e8e8df39-f6a3-4e3d-8440-cbe4246f0d81",
   "metadata": {},
   "outputs": [],
   "source": [
    "nextarrshaped=nextarr.reshape(2,3)"
   ]
  },
  {
   "cell_type": "code",
   "execution_count": 13,
   "id": "c4d01075-a15d-472a-bb5f-c1cc1d35039b",
   "metadata": {},
   "outputs": [
    {
     "data": {
      "text/plain": [
       "4"
      ]
     },
     "execution_count": 13,
     "metadata": {},
     "output_type": "execute_result"
    }
   ],
   "source": [
    "nextarrshaped[0].max()"
   ]
  },
  {
   "cell_type": "code",
   "execution_count": 14,
   "id": "37396164-1029-4a38-be40-5d9aa9449939",
   "metadata": {},
   "outputs": [
    {
     "data": {
      "text/plain": [
       "4"
      ]
     },
     "execution_count": 14,
     "metadata": {},
     "output_type": "execute_result"
    }
   ],
   "source": [
    "nextarrshaped[1].max()"
   ]
  },
  {
   "cell_type": "code",
   "execution_count": 15,
   "id": "43f771ab-9703-4529-8a83-97f5fac53655",
   "metadata": {},
   "outputs": [
    {
     "data": {
      "text/plain": [
       "array([ 0,  1,  2,  3,  4,  5,  6,  7,  8,  9, 10])"
      ]
     },
     "execution_count": 15,
     "metadata": {},
     "output_type": "execute_result"
    }
   ],
   "source": [
    "last=np.arange(11)\n",
    "last"
   ]
  },
  {
   "cell_type": "code",
   "execution_count": 16,
   "id": "1d23c5de-16d3-40d1-964e-ed3bb6132bf2",
   "metadata": {},
   "outputs": [],
   "source": [
    "lastf=(last>3) & (last<8)"
   ]
  },
  {
   "cell_type": "code",
   "execution_count": 17,
   "id": "398c30d8-2f91-418f-8ef8-f6d1a8603b78",
   "metadata": {},
   "outputs": [
    {
     "data": {
      "text/plain": [
       "array([4, 5, 6, 7])"
      ]
     },
     "execution_count": 17,
     "metadata": {},
     "output_type": "execute_result"
    }
   ],
   "source": [
    "last[lastf]"
   ]
  },
  {
   "cell_type": "code",
   "execution_count": 20,
   "id": "88b5d098-f8f4-4faf-a476-291add099b86",
   "metadata": {},
   "outputs": [
    {
     "data": {
      "text/plain": [
       "array([ 0,  1,  2,  3, -4, -5, -6, -7,  8,  9, 10])"
      ]
     },
     "execution_count": 20,
     "metadata": {},
     "output_type": "execute_result"
    }
   ],
   "source": [
    "last[lastf]=-last[lastf]\n",
    "last\n"
   ]
  },
  {
   "cell_type": "code",
   "execution_count": null,
   "id": "07b35660-c97a-4c5c-a094-8115d2024480",
   "metadata": {},
   "outputs": [],
   "source": []
  },
  {
   "cell_type": "code",
   "execution_count": null,
   "id": "902de888-b4dc-4d37-bb2a-3dc1d39c2b04",
   "metadata": {},
   "outputs": [],
   "source": []
  }
 ],
 "metadata": {
  "kernelspec": {
   "display_name": "Python 3 (ipykernel)",
   "language": "python",
   "name": "python3"
  },
  "language_info": {
   "codemirror_mode": {
    "name": "ipython",
    "version": 3
   },
   "file_extension": ".py",
   "mimetype": "text/x-python",
   "name": "python",
   "nbconvert_exporter": "python",
   "pygments_lexer": "ipython3",
   "version": "3.12.7"
  }
 },
 "nbformat": 4,
 "nbformat_minor": 5
}
