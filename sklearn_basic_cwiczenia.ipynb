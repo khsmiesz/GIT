{
 "cells": [
  {
   "cell_type": "code",
   "execution_count": 2,
   "metadata": {
    "colab": {},
    "colab_type": "code",
    "id": "8NZ0QpZb82mK"
   },
   "outputs": [],
   "source": [
    "# ćwiczenie 1:\n",
    "from sklearn.tree import DecisionTreeClassifier # drzewo decyzyjne -> tree\n",
    "from sklearn.svm import SVC # typ SVM czyli po kropce jest svm\n",
    "from sklearn.linear_model import LogisticRegression # regresja logistyczne"
   ]
  },
  {
   "cell_type": "code",
   "execution_count": 4,
   "metadata": {
    "colab": {},
    "colab_type": "code",
    "id": "hfoQUZAM87eZ"
   },
   "outputs": [],
   "source": [
    "# ćwiczenie 2:\n",
    "dt_clf = DecisionTreeClassifier()\n",
    "svc_clf = SVC()\n",
    "logreg_clf = LogisticRegression()"
   ]
  },
  {
   "cell_type": "code",
   "execution_count": 5,
   "metadata": {
    "colab": {},
    "colab_type": "code",
    "id": "E1QpzLpP89Io"
   },
   "outputs": [],
   "source": [
    "from sklearn.datasets import make_classification\n",
    "\n",
    "# prosty zbiór danych dostarczający losowe dane obiektów dwóch klas\n",
    "# aby przerobić na obiekty 3 klas należy dodac kolejny element do wektora weights i odpowiednio dopasować wagi\n",
    "#tak aby suma wynosiła 1\n",
    "\n",
    "\"\"\"\n",
    "    Przykład tworzenia prostego zbioru danych\n",
    "\"\"\"\n",
    "\n",
    "def load_simple_classifier_dataset(weights=[0.5, 0.5]):\n",
    "    \"\"\"\n",
    "        Metoda generująca prosty zbiór danych\n",
    "        Argumnenty:\n",
    "            weights - tablica 1x ilosc klas jakie chcemy mieć - ile procentowo ma być obiektów każdej klasy. Suma wag musi wynosić 1\n",
    "\n",
    "        Zwraca:\n",
    "            X - dane wejściowe dla modelu\n",
    "            y - true labels dla tych danych wejściowych\n",
    "    \"\"\"\n",
    "\n",
    "    X, y = make_classification(n_samples=1000, n_classes=len(weights), weights=weights, flip_y=0, random_state=1)\n",
    "\n",
    "    return X, y"
   ]
  },
  {
   "cell_type": "code",
   "execution_count": 6,
   "metadata": {
    "colab": {
     "base_uri": "https://localhost:8080/",
     "height": 382
    },
    "colab_type": "code",
    "id": "cakEimzP9FFa",
    "outputId": "bfa671c1-f11b-41f0-f8c1-09a129d06008"
   },
   "outputs": [
    {
     "name": "stdout",
     "output_type": "stream",
     "text": [
      "--------------\n",
      "fitting - training...\n",
      "predicting...\n",
      "true values  [0 0 0 0 0 1 1 0 0 0]\n",
      "predicted    [0 0 0 0 0 1 1 0 0 0]\n",
      "scoring...\n",
      "score =  1.0\n",
      "--------------\n",
      "fitting - training...\n",
      "predicting...\n",
      "true values  [0 0 0 0 0 1 1 0 0 0]\n",
      "predicted    [0 1 0 0 0 1 1 0 0 0]\n",
      "scoring...\n",
      "score =  0.918\n",
      "--------------\n",
      "fitting - training...\n",
      "predicting...\n",
      "true values  [0 0 0 0 0 1 1 0 0 0]\n",
      "predicted    [0 1 0 0 0 1 1 0 0 0]\n",
      "scoring...\n",
      "score =  0.854\n"
     ]
    }
   ],
   "source": [
    "# ćwiczenie 3\n",
    "x, y = load_simple_classifier_dataset()\n",
    "\n",
    "# wrzucamy wszystkie klasyffikatory do jednej tablicy, aby uniknąc duplikacji kodu i móc iterować się za pomocą pętli\n",
    "klasyfikatory = [dt_clf, svc_clf, logreg_clf]\n",
    "\n",
    "for clf in klasyfikatory:\n",
    "    print(\"--------------\")\n",
    "    print(\"fitting - training...\")\n",
    "    clf.fit(x, y)\n",
    "\n",
    "    print(\"predicting...\")\n",
    "    y_pred = clf.predict(x)\n",
    "\n",
    "    # wypisujemy wartości dla pierwsyzch 10 predykcji\n",
    "\n",
    "    print(\"true values \", y[:10])\n",
    "    print(\"predicted   \", y_pred[:10])\n",
    "\n",
    "    print(\"scoring...\")\n",
    "\n",
    "    clf_score = clf.score(x, y)\n",
    "    print(\"score = \", clf_score)"
   ]
  }
 ],
 "metadata": {
  "colab": {
   "collapsed_sections": [],
   "name": "sklearn basic cwiczenia.ipynb",
   "provenance": []
  },
  "kernelspec": {
   "display_name": "Python 3 (ipykernel)",
   "language": "python",
   "name": "python3"
  },
  "language_info": {
   "codemirror_mode": {
    "name": "ipython",
    "version": 3
   },
   "file_extension": ".py",
   "mimetype": "text/x-python",
   "name": "python",
   "nbconvert_exporter": "python",
   "pygments_lexer": "ipython3",
   "version": "3.9.13"
  }
 },
 "nbformat": 4,
 "nbformat_minor": 1
}
